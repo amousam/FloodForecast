{
 "cells": [
  {
   "cell_type": "markdown",
   "metadata": {},
   "source": [
    "# Step-by-step guide to retrieving data from USGS API\n",
    "\n",
    "## Example: \n",
    "### Get streamflow data from selected gage for time period of interest & plot timeseries results"
   ]
  },
  {
   "cell_type": "code",
   "execution_count": 66,
   "metadata": {
    "collapsed": false
   },
   "outputs": [],
   "source": [
    "# Import libraries\n",
    "%matplotlib notebook\n",
    "import pandas as pd\n",
    "import requests\n",
    "import json\n",
    "from datetime import datetime\n",
    "from collections import OrderedDict"
   ]
  },
  {
   "cell_type": "code",
   "execution_count": 67,
   "metadata": {
    "collapsed": true
   },
   "outputs": [],
   "source": [
    "# Enter Desired Data\n",
    "gage       = \"01512500\"                              # USGS Gage    \n",
    "\n",
    "y0, m0 ,d0 = 2011, 9, 7                             # Start date (year, month, day)\n",
    "y1, m1 ,d1 = 2011, 9, 9                             # End date"
   ]
  },
  {
   "cell_type": "code",
   "execution_count": 68,
   "metadata": {
    "collapsed": true
   },
   "outputs": [],
   "source": [
    "parameter  = [\"00060\",\"00065\"]                      # Try Flow first    \n",
    "#parameter  = [\"00065\",\"00060\"]                       # Try Stage First                    \n",
    "dformat    = \"json\"                                  # Data Format  \n",
    "url        = 'http://waterservices.usgs.gov/nwis/iv' # USGS API"
   ]
  },
  {
   "cell_type": "code",
   "execution_count": 69,
   "metadata": {
    "collapsed": true
   },
   "outputs": [],
   "source": [
    "# Create Datetime Objects\n",
    "start     = datetime(y0, m0, d0,0)    \n",
    "stop      = datetime(y1, m1 ,d1,0)         \n",
    "\n",
    "# Format Datetime Objects for USGS API\n",
    "first    =  datetime.date(start).strftime('%Y-%m-%d')\n",
    "last     =  datetime.date(stop).strftime('%Y-%m-%d') "
   ]
  },
  {
   "cell_type": "code",
   "execution_count": 70,
   "metadata": {
    "collapsed": true
   },
   "outputs": [],
   "source": [
    "def GrabData(gage,params):\n",
    "    r = requests.get(url, params = params) \n",
    "    print(\"\\nRetrieved Data for USGS Gage: \", gage)\n",
    "    data = r.content.decode()\n",
    "    d = json.loads(data)\n",
    "    mydict = dict(d['value']['timeSeries'][0])\n",
    "    return d, mydict"
   ]
  },
  {
   "cell_type": "code",
   "execution_count": 71,
   "metadata": {
    "collapsed": false
   },
   "outputs": [
    {
     "name": "stdout",
     "output_type": "stream",
     "text": [
      "('\\nRetrieved Data for USGS Gage: ', '01512500')\n"
     ]
    }
   ],
   "source": [
    "# Ping the USGS API for data\n",
    "\n",
    "try:\n",
    "    params = OrderedDict([('format',dformat),('sites',gage),('startDT',first), \n",
    "                ('endDT',last), ('parameterCD',parameter[0])])  \n",
    "    d, mydict = GrabData(gage,params)\n",
    "    \n",
    "except:\n",
    "    params = OrderedDict([('format',dformat),('sites',gage),('startDT',first), \n",
    "                ('endDT',last), ('parameterCD',parameter[1])])  \n",
    "    d, mydict = GrabData(gage,params)\n",
    "\n",
    "if params['parameterCD'] == '00060':\n",
    "    obser = \"StreamFlow\"\n",
    "else:\n",
    "    obser = \"Stage\"    "
   ]
  },
  {
   "cell_type": "code",
   "execution_count": 72,
   "metadata": {
    "collapsed": false
   },
   "outputs": [
    {
     "name": "stdout",
     "output_type": "stream",
     "text": [
      "('\\n', u'CHENANGO RIVER NEAR CHENANGO FORKS NY')\n"
     ]
    }
   ],
   "source": [
    "# Great, We can pull the station name, and assign to a variable for use later:\n",
    "SiteName = mydict['sourceInfo']['siteName']\n",
    "print('\\n', SiteName)\n",
    "\n",
    "# After reveiwing the JSON Data structure, select only data we need: \n",
    "tseries = d['value']['timeSeries'][0]['values'][0]['value'][:]\n"
   ]
  },
  {
   "cell_type": "code",
   "execution_count": 73,
   "metadata": {
    "collapsed": false
   },
   "outputs": [],
   "source": [
    "# Create a Dataframe, format Datetime data,and assign numeric type to observations\n",
    "df = pd.DataFrame.from_dict(tseries)\n",
    "df.index = pd.to_datetime(df['dateTime'],format='%Y-%m-%d{}%H:%M:%S'.format('T'))\n",
    "\n",
    "df['UTC Offset'] = df['dateTime'].apply(lambda x: x.split('-')[3][1])\n",
    "df['UTC Offset'] = df['UTC Offset'].apply(lambda x: pd.to_timedelta('{} hours'.format(x)))\n",
    "\n",
    "df.index = df.index - df['UTC Offset']\n",
    "df.value = pd.to_numeric(df.value)"
   ]
  },
  {
   "cell_type": "code",
   "execution_count": 74,
   "metadata": {
    "collapsed": true
   },
   "outputs": [],
   "source": [
    "# Get Rid of unwanted data, rename observed data\n",
    "df = df.drop('dateTime', 1)\n",
    "df.drop('qualifiers',axis = 1, inplace = True)\n",
    "df.drop('UTC Offset',axis = 1, inplace = True)\n",
    "df = df.rename(columns = {'value':obser})\n"
   ]
  },
  {
   "cell_type": "code",
   "execution_count": 75,
   "metadata": {
    "collapsed": false
   },
   "outputs": [],
   "source": [
    "#df_g1 = df #01513500\n",
    "#df_g2 = df #01503000\n",
    "#df_g3 = df #01507000\n",
    "df_g4 = df #01512500"
   ]
  },
  {
   "cell_type": "code",
   "execution_count": 76,
   "metadata": {
    "collapsed": false
   },
   "outputs": [
    {
     "data": {
      "text/plain": [
       "<matplotlib.axes._subplots.AxesSubplot at 0xac1d860>"
      ]
     },
     "execution_count": 76,
     "metadata": {},
     "output_type": "execute_result"
    },
    {
     "data": {
      "image/png": "[encoded data removed]",
      "text/plain": [
       "<matplotlib.figure.Figure at 0xa950470>"
      ]
     },
     "metadata": {},
     "output_type": "display_data"
    }
   ],
   "source": [
    "df.plot(grid = True, title = SiteName)"
   ]
  },
  {
   "cell_type": "code",
   "execution_count": 80,
   "metadata": {
    "collapsed": false
   },
   "outputs": [],
   "source": [
    "df = df_g1.merge(df_g2, how='inner', left_index=True, right_index=True)\n",
    "df = df.merge(df_g3, how='inner', left_index=True, right_index=True)\n",
    "df =df.merge(df_g4, how='inner', left_index=True, right_index=True)"
   ]
  },
  {
   "cell_type": "code",
   "execution_count": 82,
   "metadata": {
    "collapsed": false
   },
   "outputs": [
    {
     "data": {
      "text/plain": [
       "<matplotlib.axes._subplots.AxesSubplot at 0xaa89940>"
      ]
     },
     "execution_count": 82,
     "metadata": {},
     "output_type": "execute_result"
    },
    {
     "data": {
      "image/png": "[encoded data removed]",
      "text/plain": [
       "<matplotlib.figure.Figure at 0xac75a20>"
      ]
     },
     "metadata": {},
     "output_type": "display_data"
    }
   ],
   "source": [
    "df.plot(grid = True)"
   ]
  }
 ],
 "metadata": {
  "anaconda-cloud": {},
  "kernelspec": {
   "display_name": "Python [Root]",
   "language": "python",
   "name": "Python [Root]"
  },
  "language_info": {
   "codemirror_mode": {
    "name": "ipython",
    "version": 2
   },
   "file_extension": ".py",
   "mimetype": "text/x-python",
   "name": "python",
   "nbconvert_exporter": "python",
   "pygments_lexer": "ipython2",
   "version": "2.7.12"
  }
 },
 "nbformat": 4,
 "nbformat_minor": 1
}
