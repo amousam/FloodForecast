{
 "cells": [
  {
   "cell_type": "markdown",
   "metadata": {},
   "source": [
    "# Step-by-step guide to retrieving data from USGS API\n",
    "\n",
    "## Example: \n",
    "### Get streamflow data from selected gage for time period of interest & plot timeseries results"
   ]
  },
  {
   "cell_type": "code",
   "execution_count": null,
   "metadata": {
    "collapsed": false
   },
   "outputs": [],
   "source": [
    "# Import libraries\n",
    "\n",
    "%matplotlib inline\n",
    "import pandas as pd\n",
    "import requests\n",
    "import json\n",
    "from datetime import datetime\n",
    "from collections import OrderedDict"
   ]
  },
  {
   "cell_type": "code",
   "execution_count": null,
   "metadata": {
    "collapsed": true
   },
   "outputs": [],
   "source": [
    "# Enter Desired Data\n",
    "gage       = \"01646500\"                              # USGS Gage    \n",
    "\n",
    "y0, m0 ,d0 = 2013, 4, 30                             # Start date (year, month, day)\n",
    "y1, m1 ,d1 = 2014, 5, 10                             # End date\n",
    "\n",
    "parameter  = \"00060\"                                 # Parameter \n",
    "obser      = \"StreamFlow\"                            # Observed data Requested\n",
    "dformat    = \"json\"                                  # Data Format  \n",
    "url        = 'http://waterservices.usgs.gov/nwis/iv' # USGS API"
   ]
  },
  {
   "cell_type": "code",
   "execution_count": null,
   "metadata": {
    "collapsed": true
   },
   "outputs": [],
   "source": [
    "# Create Datetime Objects\n",
    "start     = datetime(y0, m0, d0,0)    \n",
    "stop      = datetime(y1, m1 ,d1,0)         \n",
    "\n",
    "# Format Datetime Objects for USGS API\n",
    "first    =  datetime.date(start).strftime('%Y-%m-%d')\n",
    "last     =  datetime.date(stop).strftime('%Y-%m-%d') "
   ]
  },
  {
   "cell_type": "code",
   "execution_count": null,
   "metadata": {
    "collapsed": false
   },
   "outputs": [],
   "source": [
    "# Ping the USGS API for data\n",
    "\n",
    "params = OrderedDict([('format',dformat),('sites',gage),('startDT',first), \n",
    "            ('endDT',last), ('parameterCD',parameter)])  \n",
    "\n",
    "r = requests.get(url, params = params) \n",
    "print(\"Retrieved Data for USGS Gage: \", gage)\n",
    "data = r.content.decode()\n",
    "d = json.loads(data)"
   ]
  },
  {
   "cell_type": "code",
   "execution_count": null,
   "metadata": {
    "collapsed": false
   },
   "outputs": [],
   "source": [
    "# Take a peak at the JSON output:\n",
    "d"
   ]
  },
  {
   "cell_type": "code",
   "execution_count": null,
   "metadata": {
    "collapsed": false
   },
   "outputs": [],
   "source": [
    "# There is alot of meta data we don't need here, lets dig deeper:\n",
    "d['value']"
   ]
  },
  {
   "cell_type": "code",
   "execution_count": null,
   "metadata": {
    "collapsed": false
   },
   "outputs": [],
   "source": [
    "# Still not where we need to be, lets go down another level:\n",
    "d['value']['timeSeries']"
   ]
  },
  {
   "cell_type": "code",
   "execution_count": null,
   "metadata": {
    "collapsed": false
   },
   "outputs": [],
   "source": [
    "# Let's see what the keys are in the JSON output:\n",
    "mydict = dict(d['value']['timeSeries'][0])\n",
    "for key in mydict: print(key)"
   ]
  },
  {
   "cell_type": "code",
   "execution_count": null,
   "metadata": {
    "collapsed": false
   },
   "outputs": [],
   "source": [
    "# Now, Lets dig a little deeper into one of the keys:\n",
    "mydict['sourceInfo']"
   ]
  },
  {
   "cell_type": "code",
   "execution_count": null,
   "metadata": {
    "collapsed": false
   },
   "outputs": [],
   "source": [
    "# Great, We can pull the station name, and assign to a variable for use later:\n",
    "SiteName = mydict['sourceInfo']['siteName']\n",
    "print(SiteName)"
   ]
  },
  {
   "cell_type": "code",
   "execution_count": null,
   "metadata": {
    "collapsed": true
   },
   "outputs": [],
   "source": [
    "# After reveiwing the JSON Data structure, select only data we need: \n",
    "tseries = d['value']['timeSeries'][0]['values'][0]['value'][:]"
   ]
  },
  {
   "cell_type": "code",
   "execution_count": null,
   "metadata": {
    "collapsed": false
   },
   "outputs": [],
   "source": [
    "# Create a Dataframe, format Datetime data,and assign numeric type to observations\n",
    "df = pd.DataFrame.from_dict(tseries)\n",
    "df.index = pd.to_datetime(df['dateTime'],format='%Y-%m-%d{}%H:%M:%S'.format('T'))\n",
    "\n",
    "df['UTC Offset'] = df['dateTime'].apply(lambda x: x.split('-')[3][1])\n",
    "df['UTC Offset'] = df['UTC Offset'].apply(lambda x: pd.to_timedelta('{} hours'.format(x)))\n",
    "\n",
    "df.index = df.index - df['UTC Offset']\n",
    "df.value = pd.to_numeric(df.value)"
   ]
  },
  {
   "cell_type": "code",
   "execution_count": null,
   "metadata": {
    "collapsed": false
   },
   "outputs": [],
   "source": [
    "df.head()"
   ]
  },
  {
   "cell_type": "code",
   "execution_count": null,
   "metadata": {
    "collapsed": false
   },
   "outputs": [],
   "source": [
    "# Get Rid of unwanted data, rename observed data\n",
    "df = df.drop('dateTime', 1)\n",
    "df.drop('qualifiers',axis = 1, inplace = True)\n",
    "df.drop('UTC Offset',axis = 1, inplace = True)\n",
    "df = df.rename(columns = {'value':obser})\n",
    "df.head()"
   ]
  },
  {
   "cell_type": "code",
   "execution_count": null,
   "metadata": {
    "collapsed": false
   },
   "outputs": [],
   "source": [
    "# Plot the Results, and use the SiteName as a title!\n",
    "df.plot(grid = True, title = SiteName)"
   ]
  }
 ],
 "metadata": {
  "anaconda-cloud": {},
  "kernelspec": {
   "display_name": "Python [default]",
   "language": "python",
   "name": "python3"
  },
  "language_info": {
   "codemirror_mode": {
    "name": "ipython",
    "version": 3
   },
   "file_extension": ".py",
   "mimetype": "text/x-python",
   "name": "python",
   "nbconvert_exporter": "python",
   "pygments_lexer": "ipython3",
   "version": "3.5.2"
  }
 },
 "nbformat": 4,
 "nbformat_minor": 1
}
